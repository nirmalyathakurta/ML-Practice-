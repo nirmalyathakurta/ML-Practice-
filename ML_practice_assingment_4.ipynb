{
 "cells": [
  {
   "cell_type": "raw",
   "id": "ac5b9ffc-940f-463f-89b1-0431f309c3d1",
   "metadata": {},
   "source": [
    "Question~4:\n",
    "Assignment on Classification technique Every year many students give the GRE exam to get admission in foreign Universities. The data\n",
    "set contains GRE Scores (out of 340), TOEFL Scores (out of 120), University Rating (out of 5),\n",
    "Statement of Purpose strength (out of 5), Letter of Recommendation strength (out of 5),\n",
    "Undergraduate GPA (out of 10), Research Experience (0=no, 1=yes), Admitted (0=no, 1=yes).\n",
    "Admitted is the target variable.\n",
    "Data Set Available on kaggle (The last column of the dataset needs to be changed to 0 or 1)Data\n",
    "Set : https://www.kaggle.com/mohansacharya/graduate-admissions\n",
    "The counselor of the firm is supposed check whether the student will get an admission or not\n",
    "based on his/her GRE score and Academic Score. So to help the counselor to take appropriate\n",
    "decisions building:- \n",
    "A. machine learning model classifier using Decision tree to predict whether a\n",
    "   student will get admission or not.\n",
    "B. Apply Data pre-processing (Label Encoding, Data Transformation….) techniques if\n",
    "   necessary.\n",
    "Perform data-preparation (Train-Test Split)\n",
    "C. Apply Machine Learning Algorithm\n",
    "D. Evaluate Model."
   ]
  },
  {
   "cell_type": "code",
   "execution_count": 4,
   "id": "9ac74969-ec1a-4a4d-846b-dc8336f5267c",
   "metadata": {},
   "outputs": [],
   "source": [
    "import pandas as pd\n",
    "from sklearn.model_selection import train_test_split\n",
    "from sklearn.tree import DecisionTreeClassifier\n",
    "from sklearn.metrics import accuracy_score, classification_report\n",
    "from sklearn.tree import plot_tree\n",
    "from sklearn.preprocessing import LabelEncoder"
   ]
  },
  {
   "cell_type": "code",
   "execution_count": 10,
   "id": "04977924-f019-437e-93b2-1d728a8a05f4",
   "metadata": {},
   "outputs": [
    {
     "name": "stdout",
     "output_type": "stream",
     "text": [
      "   Serial No.  GRE Score  TOEFL Score  University Rating  SOP  LOR   CGPA  \\\n",
      "0           1        337          118                  4  4.5   4.5  9.65   \n",
      "1           2        324          107                  4  4.0   4.5  8.87   \n",
      "2           3        316          104                  3  3.0   3.5  8.00   \n",
      "3           4        322          110                  3  3.5   2.5  8.67   \n",
      "4           5        314          103                  2  2.0   3.0  8.21   \n",
      "\n",
      "   Research  Admitted  \n",
      "0         1      0.92  \n",
      "1         1      0.76  \n",
      "2         1      0.72  \n",
      "3         1      0.80  \n",
      "4         0      0.65  \n",
      "       Serial No.   GRE Score  TOEFL Score  University Rating         SOP  \\\n",
      "count  500.000000  500.000000   500.000000         500.000000  500.000000   \n",
      "mean   250.500000  316.472000   107.192000           3.114000    3.374000   \n",
      "std    144.481833   11.295148     6.081868           1.143512    0.991004   \n",
      "min      1.000000  290.000000    92.000000           1.000000    1.000000   \n",
      "25%    125.750000  308.000000   103.000000           2.000000    2.500000   \n",
      "50%    250.500000  317.000000   107.000000           3.000000    3.500000   \n",
      "75%    375.250000  325.000000   112.000000           4.000000    4.000000   \n",
      "max    500.000000  340.000000   120.000000           5.000000    5.000000   \n",
      "\n",
      "            LOR         CGPA    Research   Admitted  \n",
      "count  500.00000  500.000000  500.000000  500.00000  \n",
      "mean     3.48400    8.576440    0.560000    0.72174  \n",
      "std      0.92545    0.604813    0.496884    0.14114  \n",
      "min      1.00000    6.800000    0.000000    0.34000  \n",
      "25%      3.00000    8.127500    0.000000    0.63000  \n",
      "50%      3.50000    8.560000    1.000000    0.72000  \n",
      "75%      4.00000    9.040000    1.000000    0.82000  \n",
      "max      5.00000    9.920000    1.000000    0.97000  \n"
     ]
    }
   ],
   "source": [
    "df = pd.read_csv('graduate_admissions.csv')\n",
    "print(df.head())\n",
    "print(df.describe())"
   ]
  },
  {
   "cell_type": "code",
   "execution_count": 11,
   "id": "89eb547c-6eb5-46ca-827d-7d9bda302dd6",
   "metadata": {},
   "outputs": [],
   "source": [
    "df = df.drop(columns=['Serial No.'])\n"
   ]
  },
  {
   "cell_type": "code",
   "execution_count": 19,
   "id": "59a71e79-51a6-40f2-aefe-576f5e62fdad",
   "metadata": {},
   "outputs": [],
   "source": [
    "le = LabelEncoder()\n",
    "df['Research'] = le.fit_transform(df['Research'])\n",
    "df['Admitted'] = le.fit_transform(df['Admitted'])"
   ]
  },
  {
   "cell_type": "code",
   "execution_count": 22,
   "id": "bcabd20e-a3cd-4150-8629-f409c5e80b48",
   "metadata": {},
   "outputs": [
    {
     "data": {
      "text/html": [
       "<div>\n",
       "<style scoped>\n",
       "    .dataframe tbody tr th:only-of-type {\n",
       "        vertical-align: middle;\n",
       "    }\n",
       "\n",
       "    .dataframe tbody tr th {\n",
       "        vertical-align: top;\n",
       "    }\n",
       "\n",
       "    .dataframe thead th {\n",
       "        text-align: right;\n",
       "    }\n",
       "</style>\n",
       "<table border=\"1\" class=\"dataframe\">\n",
       "  <thead>\n",
       "    <tr style=\"text-align: right;\">\n",
       "      <th></th>\n",
       "      <th>GRE Score</th>\n",
       "      <th>TOEFL Score</th>\n",
       "      <th>University Rating</th>\n",
       "      <th>SOP</th>\n",
       "      <th>LOR</th>\n",
       "      <th>CGPA</th>\n",
       "      <th>Research</th>\n",
       "      <th>Admitted</th>\n",
       "    </tr>\n",
       "  </thead>\n",
       "  <tbody>\n",
       "    <tr>\n",
       "      <th>0</th>\n",
       "      <td>337</td>\n",
       "      <td>118</td>\n",
       "      <td>4</td>\n",
       "      <td>4.5</td>\n",
       "      <td>4.5</td>\n",
       "      <td>9.65</td>\n",
       "      <td>1</td>\n",
       "      <td>1</td>\n",
       "    </tr>\n",
       "    <tr>\n",
       "      <th>1</th>\n",
       "      <td>324</td>\n",
       "      <td>107</td>\n",
       "      <td>4</td>\n",
       "      <td>4.0</td>\n",
       "      <td>4.5</td>\n",
       "      <td>8.87</td>\n",
       "      <td>1</td>\n",
       "      <td>1</td>\n",
       "    </tr>\n",
       "    <tr>\n",
       "      <th>2</th>\n",
       "      <td>316</td>\n",
       "      <td>104</td>\n",
       "      <td>3</td>\n",
       "      <td>3.0</td>\n",
       "      <td>3.5</td>\n",
       "      <td>8.00</td>\n",
       "      <td>1</td>\n",
       "      <td>1</td>\n",
       "    </tr>\n",
       "    <tr>\n",
       "      <th>3</th>\n",
       "      <td>322</td>\n",
       "      <td>110</td>\n",
       "      <td>3</td>\n",
       "      <td>3.5</td>\n",
       "      <td>2.5</td>\n",
       "      <td>8.67</td>\n",
       "      <td>1</td>\n",
       "      <td>1</td>\n",
       "    </tr>\n",
       "    <tr>\n",
       "      <th>4</th>\n",
       "      <td>314</td>\n",
       "      <td>103</td>\n",
       "      <td>2</td>\n",
       "      <td>2.0</td>\n",
       "      <td>3.0</td>\n",
       "      <td>8.21</td>\n",
       "      <td>0</td>\n",
       "      <td>1</td>\n",
       "    </tr>\n",
       "  </tbody>\n",
       "</table>\n",
       "</div>"
      ],
      "text/plain": [
       "   GRE Score  TOEFL Score  University Rating  SOP  LOR   CGPA  Research  \\\n",
       "0        337          118                  4  4.5   4.5  9.65         1   \n",
       "1        324          107                  4  4.0   4.5  8.87         1   \n",
       "2        316          104                  3  3.0   3.5  8.00         1   \n",
       "3        322          110                  3  3.5   2.5  8.67         1   \n",
       "4        314          103                  2  2.0   3.0  8.21         0   \n",
       "\n",
       "  Admitted  \n",
       "0        1  \n",
       "1        1  \n",
       "2        1  \n",
       "3        1  \n",
       "4        1  "
      ]
     },
     "execution_count": 22,
     "metadata": {},
     "output_type": "execute_result"
    }
   ],
   "source": [
    "df.head()"
   ]
  },
  {
   "cell_type": "code",
   "execution_count": 20,
   "id": "6228061d-018c-4754-81a8-3676fc9744ee",
   "metadata": {},
   "outputs": [],
   "source": [
    "X = df[['GRE Score', 'CGPA']]  \n",
    "y = df['Admitted']  \n",
    "X_train, X_test, y_train, y_test = train_test_split(X, y, test_size=0.2, random_state=42)\n"
   ]
  },
  {
   "cell_type": "code",
   "execution_count": 23,
   "id": "21670417-ce25-48ff-9279-a553b402c99a",
   "metadata": {},
   "outputs": [
    {
     "data": {
      "text/html": [
       "<style>#sk-container-id-2 {color: black;}#sk-container-id-2 pre{padding: 0;}#sk-container-id-2 div.sk-toggleable {background-color: white;}#sk-container-id-2 label.sk-toggleable__label {cursor: pointer;display: block;width: 100%;margin-bottom: 0;padding: 0.3em;box-sizing: border-box;text-align: center;}#sk-container-id-2 label.sk-toggleable__label-arrow:before {content: \"▸\";float: left;margin-right: 0.25em;color: #696969;}#sk-container-id-2 label.sk-toggleable__label-arrow:hover:before {color: black;}#sk-container-id-2 div.sk-estimator:hover label.sk-toggleable__label-arrow:before {color: black;}#sk-container-id-2 div.sk-toggleable__content {max-height: 0;max-width: 0;overflow: hidden;text-align: left;background-color: #f0f8ff;}#sk-container-id-2 div.sk-toggleable__content pre {margin: 0.2em;color: black;border-radius: 0.25em;background-color: #f0f8ff;}#sk-container-id-2 input.sk-toggleable__control:checked~div.sk-toggleable__content {max-height: 200px;max-width: 100%;overflow: auto;}#sk-container-id-2 input.sk-toggleable__control:checked~label.sk-toggleable__label-arrow:before {content: \"▾\";}#sk-container-id-2 div.sk-estimator input.sk-toggleable__control:checked~label.sk-toggleable__label {background-color: #d4ebff;}#sk-container-id-2 div.sk-label input.sk-toggleable__control:checked~label.sk-toggleable__label {background-color: #d4ebff;}#sk-container-id-2 input.sk-hidden--visually {border: 0;clip: rect(1px 1px 1px 1px);clip: rect(1px, 1px, 1px, 1px);height: 1px;margin: -1px;overflow: hidden;padding: 0;position: absolute;width: 1px;}#sk-container-id-2 div.sk-estimator {font-family: monospace;background-color: #f0f8ff;border: 1px dotted black;border-radius: 0.25em;box-sizing: border-box;margin-bottom: 0.5em;}#sk-container-id-2 div.sk-estimator:hover {background-color: #d4ebff;}#sk-container-id-2 div.sk-parallel-item::after {content: \"\";width: 100%;border-bottom: 1px solid gray;flex-grow: 1;}#sk-container-id-2 div.sk-label:hover label.sk-toggleable__label {background-color: #d4ebff;}#sk-container-id-2 div.sk-serial::before {content: \"\";position: absolute;border-left: 1px solid gray;box-sizing: border-box;top: 0;bottom: 0;left: 50%;z-index: 0;}#sk-container-id-2 div.sk-serial {display: flex;flex-direction: column;align-items: center;background-color: white;padding-right: 0.2em;padding-left: 0.2em;position: relative;}#sk-container-id-2 div.sk-item {position: relative;z-index: 1;}#sk-container-id-2 div.sk-parallel {display: flex;align-items: stretch;justify-content: center;background-color: white;position: relative;}#sk-container-id-2 div.sk-item::before, #sk-container-id-2 div.sk-parallel-item::before {content: \"\";position: absolute;border-left: 1px solid gray;box-sizing: border-box;top: 0;bottom: 0;left: 50%;z-index: -1;}#sk-container-id-2 div.sk-parallel-item {display: flex;flex-direction: column;z-index: 1;position: relative;background-color: white;}#sk-container-id-2 div.sk-parallel-item:first-child::after {align-self: flex-end;width: 50%;}#sk-container-id-2 div.sk-parallel-item:last-child::after {align-self: flex-start;width: 50%;}#sk-container-id-2 div.sk-parallel-item:only-child::after {width: 0;}#sk-container-id-2 div.sk-dashed-wrapped {border: 1px dashed gray;margin: 0 0.4em 0.5em 0.4em;box-sizing: border-box;padding-bottom: 0.4em;background-color: white;}#sk-container-id-2 div.sk-label label {font-family: monospace;font-weight: bold;display: inline-block;line-height: 1.2em;}#sk-container-id-2 div.sk-label-container {text-align: center;}#sk-container-id-2 div.sk-container {/* jupyter's `normalize.less` sets `[hidden] { display: none; }` but bootstrap.min.css set `[hidden] { display: none !important; }` so we also need the `!important` here to be able to override the default hidden behavior on the sphinx rendered scikit-learn.org. See: https://github.com/scikit-learn/scikit-learn/issues/21755 */display: inline-block !important;position: relative;}#sk-container-id-2 div.sk-text-repr-fallback {display: none;}</style><div id=\"sk-container-id-2\" class=\"sk-top-container\"><div class=\"sk-text-repr-fallback\"><pre>DecisionTreeClassifier(random_state=42)</pre><b>In a Jupyter environment, please rerun this cell to show the HTML representation or trust the notebook. <br />On GitHub, the HTML representation is unable to render, please try loading this page with nbviewer.org.</b></div><div class=\"sk-container\" hidden><div class=\"sk-item\"><div class=\"sk-estimator sk-toggleable\"><input class=\"sk-toggleable__control sk-hidden--visually\" id=\"sk-estimator-id-2\" type=\"checkbox\" checked><label for=\"sk-estimator-id-2\" class=\"sk-toggleable__label sk-toggleable__label-arrow\">DecisionTreeClassifier</label><div class=\"sk-toggleable__content\"><pre>DecisionTreeClassifier(random_state=42)</pre></div></div></div></div></div>"
      ],
      "text/plain": [
       "DecisionTreeClassifier(random_state=42)"
      ]
     },
     "execution_count": 23,
     "metadata": {},
     "output_type": "execute_result"
    }
   ],
   "source": [
    "dt_classifier = DecisionTreeClassifier(random_state=42)\n",
    "dt_classifier.fit(X_train, y_train)"
   ]
  },
  {
   "cell_type": "code",
   "execution_count": 24,
   "id": "ce5ac0d4-4463-4f54-ab05-1abe8e68618a",
   "metadata": {},
   "outputs": [
    {
     "name": "stdout",
     "output_type": "stream",
     "text": [
      "Decision Tree Classifier Accuracy: 0.91\n",
      "Classification Report:\n",
      "               precision    recall  f1-score   support\n",
      "\n",
      "           0       0.50      0.44      0.47         9\n",
      "           1       0.95      0.96      0.95        91\n",
      "\n",
      "    accuracy                           0.91       100\n",
      "   macro avg       0.72      0.70      0.71       100\n",
      "weighted avg       0.91      0.91      0.91       100\n",
      "\n"
     ]
    }
   ],
   "source": [
    "y_pred = dt_classifier.predict(X_test)\n",
    "accuracy = accuracy_score(y_test, y_pred)\n",
    "print(\"Decision Tree Classifier Accuracy:\", accuracy)\n",
    "print(\"Classification Report:\\n\", classification_report(y_test, y_pred))"
   ]
  },
  {
   "cell_type": "code",
   "execution_count": 26,
   "id": "8bb6a58c-522f-4137-8522-3bf86858f480",
   "metadata": {},
   "outputs": [
    {
     "data": {
      "text/plain": [
       "[Text(0.5199652777777778, 0.9666666666666667, 'x[1] <= 7.665\\ngini = 0.13\\nsamples = 400\\nvalue = [28, 372]'),\n",
       " Text(0.20833333333333334, 0.9, 'x[0] <= 301.0\\ngini = 0.491\\nsamples = 30\\nvalue = [17, 13]'),\n",
       " Text(0.1111111111111111, 0.8333333333333334, 'x[1] <= 7.645\\ngini = 0.231\\nsamples = 15\\nvalue = [13, 2]'),\n",
       " Text(0.05555555555555555, 0.7666666666666667, 'x[0] <= 297.5\\ngini = 0.142\\nsamples = 13\\nvalue = [12, 1]'),\n",
       " Text(0.027777777777777776, 0.7, 'gini = 0.0\\nsamples = 7\\nvalue = [7, 0]'),\n",
       " Text(0.08333333333333333, 0.7, 'x[1] <= 7.44\\ngini = 0.278\\nsamples = 6\\nvalue = [5, 1]'),\n",
       " Text(0.05555555555555555, 0.6333333333333333, 'gini = 0.0\\nsamples = 3\\nvalue = [3, 0]'),\n",
       " Text(0.1111111111111111, 0.6333333333333333, 'x[1] <= 7.48\\ngini = 0.444\\nsamples = 3\\nvalue = [2, 1]'),\n",
       " Text(0.08333333333333333, 0.5666666666666667, 'gini = 0.0\\nsamples = 1\\nvalue = [0, 1]'),\n",
       " Text(0.1388888888888889, 0.5666666666666667, 'gini = 0.0\\nsamples = 2\\nvalue = [2, 0]'),\n",
       " Text(0.16666666666666666, 0.7666666666666667, 'x[1] <= 7.655\\ngini = 0.5\\nsamples = 2\\nvalue = [1, 1]'),\n",
       " Text(0.1388888888888889, 0.7, 'gini = 0.0\\nsamples = 1\\nvalue = [0, 1]'),\n",
       " Text(0.19444444444444445, 0.7, 'gini = 0.0\\nsamples = 1\\nvalue = [1, 0]'),\n",
       " Text(0.3055555555555556, 0.8333333333333334, 'x[1] <= 7.655\\ngini = 0.391\\nsamples = 15\\nvalue = [4, 11]'),\n",
       " Text(0.2777777777777778, 0.7666666666666667, 'x[1] <= 7.415\\ngini = 0.26\\nsamples = 13\\nvalue = [2, 11]'),\n",
       " Text(0.25, 0.7, 'gini = 0.0\\nsamples = 4\\nvalue = [0, 4]'),\n",
       " Text(0.3055555555555556, 0.7, 'x[1] <= 7.44\\ngini = 0.346\\nsamples = 9\\nvalue = [2, 7]'),\n",
       " Text(0.2777777777777778, 0.6333333333333333, 'gini = 0.0\\nsamples = 1\\nvalue = [1, 0]'),\n",
       " Text(0.3333333333333333, 0.6333333333333333, 'x[0] <= 307.5\\ngini = 0.219\\nsamples = 8\\nvalue = [1, 7]'),\n",
       " Text(0.3055555555555556, 0.5666666666666667, 'x[1] <= 7.57\\ngini = 0.375\\nsamples = 4\\nvalue = [1, 3]'),\n",
       " Text(0.2777777777777778, 0.5, 'gini = 0.0\\nsamples = 2\\nvalue = [0, 2]'),\n",
       " Text(0.3333333333333333, 0.5, 'x[0] <= 303.5\\ngini = 0.5\\nsamples = 2\\nvalue = [1, 1]'),\n",
       " Text(0.3055555555555556, 0.43333333333333335, 'gini = 0.0\\nsamples = 1\\nvalue = [0, 1]'),\n",
       " Text(0.3611111111111111, 0.43333333333333335, 'gini = 0.0\\nsamples = 1\\nvalue = [1, 0]'),\n",
       " Text(0.3611111111111111, 0.5666666666666667, 'gini = 0.0\\nsamples = 4\\nvalue = [0, 4]'),\n",
       " Text(0.3333333333333333, 0.7666666666666667, 'gini = 0.0\\nsamples = 2\\nvalue = [2, 0]'),\n",
       " Text(0.8315972222222222, 0.9, 'x[1] <= 8.205\\ngini = 0.058\\nsamples = 370\\nvalue = [11, 359]'),\n",
       " Text(0.71875, 0.8333333333333334, 'x[1] <= 8.19\\ngini = 0.21\\nsamples = 84\\nvalue = [10, 74]'),\n",
       " Text(0.6319444444444444, 0.7666666666666667, 'x[0] <= 309.5\\ngini = 0.182\\nsamples = 79\\nvalue = [8, 71]'),\n",
       " Text(0.5416666666666666, 0.7, 'x[1] <= 8.11\\ngini = 0.258\\nsamples = 46\\nvalue = [7, 39]'),\n",
       " Text(0.5138888888888888, 0.6333333333333333, 'x[1] <= 7.955\\ngini = 0.295\\nsamples = 39\\nvalue = [7, 32]'),\n",
       " Text(0.4166666666666667, 0.5666666666666667, 'x[1] <= 7.82\\ngini = 0.172\\nsamples = 21\\nvalue = [2, 19]'),\n",
       " Text(0.3888888888888889, 0.5, 'gini = 0.0\\nsamples = 6\\nvalue = [0, 6]'),\n",
       " Text(0.4444444444444444, 0.5, 'x[1] <= 7.85\\ngini = 0.231\\nsamples = 15\\nvalue = [2, 13]'),\n",
       " Text(0.4166666666666667, 0.43333333333333335, 'gini = 0.0\\nsamples = 1\\nvalue = [1, 0]'),\n",
       " Text(0.4722222222222222, 0.43333333333333335, 'x[0] <= 297.5\\ngini = 0.133\\nsamples = 14\\nvalue = [1, 13]'),\n",
       " Text(0.4444444444444444, 0.36666666666666664, 'x[1] <= 7.875\\ngini = 0.444\\nsamples = 3\\nvalue = [1, 2]'),\n",
       " Text(0.4166666666666667, 0.3, 'gini = 0.0\\nsamples = 1\\nvalue = [0, 1]'),\n",
       " Text(0.4722222222222222, 0.3, 'x[1] <= 7.895\\ngini = 0.5\\nsamples = 2\\nvalue = [1, 1]'),\n",
       " Text(0.4444444444444444, 0.23333333333333334, 'gini = 0.0\\nsamples = 1\\nvalue = [1, 0]'),\n",
       " Text(0.5, 0.23333333333333334, 'gini = 0.0\\nsamples = 1\\nvalue = [0, 1]'),\n",
       " Text(0.5, 0.36666666666666664, 'gini = 0.0\\nsamples = 11\\nvalue = [0, 11]'),\n",
       " Text(0.6111111111111112, 0.5666666666666667, 'x[1] <= 7.965\\ngini = 0.401\\nsamples = 18\\nvalue = [5, 13]'),\n",
       " Text(0.5833333333333334, 0.5, 'gini = 0.0\\nsamples = 1\\nvalue = [1, 0]'),\n",
       " Text(0.6388888888888888, 0.5, 'x[0] <= 305.0\\ngini = 0.36\\nsamples = 17\\nvalue = [4, 13]'),\n",
       " Text(0.5833333333333334, 0.43333333333333335, 'x[0] <= 298.5\\ngini = 0.219\\nsamples = 8\\nvalue = [1, 7]'),\n",
       " Text(0.5555555555555556, 0.36666666666666664, 'x[0] <= 297.0\\ngini = 0.5\\nsamples = 2\\nvalue = [1, 1]'),\n",
       " Text(0.5277777777777778, 0.3, 'gini = 0.0\\nsamples = 1\\nvalue = [0, 1]'),\n",
       " Text(0.5833333333333334, 0.3, 'gini = 0.0\\nsamples = 1\\nvalue = [1, 0]'),\n",
       " Text(0.6111111111111112, 0.36666666666666664, 'gini = 0.0\\nsamples = 6\\nvalue = [0, 6]'),\n",
       " Text(0.6944444444444444, 0.43333333333333335, 'x[0] <= 306.5\\ngini = 0.444\\nsamples = 9\\nvalue = [3, 6]'),\n",
       " Text(0.6666666666666666, 0.36666666666666664, 'gini = 0.0\\nsamples = 1\\nvalue = [1, 0]'),\n",
       " Text(0.7222222222222222, 0.36666666666666664, 'x[0] <= 307.5\\ngini = 0.375\\nsamples = 8\\nvalue = [2, 6]'),\n",
       " Text(0.6944444444444444, 0.3, 'gini = 0.0\\nsamples = 2\\nvalue = [0, 2]'),\n",
       " Text(0.75, 0.3, 'x[1] <= 8.085\\ngini = 0.444\\nsamples = 6\\nvalue = [2, 4]'),\n",
       " Text(0.7222222222222222, 0.23333333333333334, 'x[0] <= 308.5\\ngini = 0.32\\nsamples = 5\\nvalue = [1, 4]'),\n",
       " Text(0.6944444444444444, 0.16666666666666666, 'x[1] <= 7.99\\ngini = 0.444\\nsamples = 3\\nvalue = [1, 2]'),\n",
       " Text(0.6666666666666666, 0.1, 'gini = 0.0\\nsamples = 1\\nvalue = [0, 1]'),\n",
       " Text(0.7222222222222222, 0.1, 'x[1] <= 8.035\\ngini = 0.5\\nsamples = 2\\nvalue = [1, 1]'),\n",
       " Text(0.6944444444444444, 0.03333333333333333, 'gini = 0.0\\nsamples = 1\\nvalue = [1, 0]'),\n",
       " Text(0.75, 0.03333333333333333, 'gini = 0.0\\nsamples = 1\\nvalue = [0, 1]'),\n",
       " Text(0.75, 0.16666666666666666, 'gini = 0.0\\nsamples = 2\\nvalue = [0, 2]'),\n",
       " Text(0.7777777777777778, 0.23333333333333334, 'gini = 0.0\\nsamples = 1\\nvalue = [1, 0]'),\n",
       " Text(0.5694444444444444, 0.6333333333333333, 'gini = 0.0\\nsamples = 7\\nvalue = [0, 7]'),\n",
       " Text(0.7222222222222222, 0.7, 'x[0] <= 316.5\\ngini = 0.059\\nsamples = 33\\nvalue = [1, 32]'),\n",
       " Text(0.6944444444444444, 0.6333333333333333, 'gini = 0.0\\nsamples = 25\\nvalue = [0, 25]'),\n",
       " Text(0.75, 0.6333333333333333, 'x[1] <= 7.97\\ngini = 0.219\\nsamples = 8\\nvalue = [1, 7]'),\n",
       " Text(0.7222222222222222, 0.5666666666666667, 'x[1] <= 7.915\\ngini = 0.5\\nsamples = 2\\nvalue = [1, 1]'),\n",
       " Text(0.6944444444444444, 0.5, 'gini = 0.0\\nsamples = 1\\nvalue = [0, 1]'),\n",
       " Text(0.75, 0.5, 'gini = 0.0\\nsamples = 1\\nvalue = [1, 0]'),\n",
       " Text(0.7777777777777778, 0.5666666666666667, 'gini = 0.0\\nsamples = 6\\nvalue = [0, 6]'),\n",
       " Text(0.8055555555555556, 0.7666666666666667, 'x[0] <= 305.5\\ngini = 0.48\\nsamples = 5\\nvalue = [2, 3]'),\n",
       " Text(0.7777777777777778, 0.7, 'gini = 0.0\\nsamples = 1\\nvalue = [0, 1]'),\n",
       " Text(0.8333333333333334, 0.7, 'x[0] <= 309.0\\ngini = 0.5\\nsamples = 4\\nvalue = [2, 2]'),\n",
       " Text(0.8055555555555556, 0.6333333333333333, 'gini = 0.0\\nsamples = 1\\nvalue = [1, 0]'),\n",
       " Text(0.8611111111111112, 0.6333333333333333, 'x[0] <= 313.5\\ngini = 0.444\\nsamples = 3\\nvalue = [1, 2]'),\n",
       " Text(0.8333333333333334, 0.5666666666666667, 'gini = 0.0\\nsamples = 1\\nvalue = [0, 1]'),\n",
       " Text(0.8888888888888888, 0.5666666666666667, 'x[0] <= 318.5\\ngini = 0.5\\nsamples = 2\\nvalue = [1, 1]'),\n",
       " Text(0.8611111111111112, 0.5, 'gini = 0.0\\nsamples = 1\\nvalue = [1, 0]'),\n",
       " Text(0.9166666666666666, 0.5, 'gini = 0.0\\nsamples = 1\\nvalue = [0, 1]'),\n",
       " Text(0.9444444444444444, 0.8333333333333334, 'x[1] <= 8.31\\ngini = 0.007\\nsamples = 286\\nvalue = [1, 285]'),\n",
       " Text(0.9166666666666666, 0.7666666666666667, 'x[1] <= 8.29\\ngini = 0.077\\nsamples = 25\\nvalue = [1, 24]'),\n",
       " Text(0.8888888888888888, 0.7, 'gini = 0.0\\nsamples = 22\\nvalue = [0, 22]'),\n",
       " Text(0.9444444444444444, 0.7, 'x[0] <= 312.0\\ngini = 0.444\\nsamples = 3\\nvalue = [1, 2]'),\n",
       " Text(0.9166666666666666, 0.6333333333333333, 'gini = 0.0\\nsamples = 1\\nvalue = [1, 0]'),\n",
       " Text(0.9722222222222222, 0.6333333333333333, 'gini = 0.0\\nsamples = 2\\nvalue = [0, 2]'),\n",
       " Text(0.9722222222222222, 0.7666666666666667, 'gini = 0.0\\nsamples = 261\\nvalue = [0, 261]')]"
      ]
     },
     "execution_count": 26,
     "metadata": {},
     "output_type": "execute_result"
    },
    {
     "data": {
      "image/png": "[encoded data removed]",
      "text/plain": [
       "<Figure size 640x480 with 1 Axes>"
      ]
     },
     "metadata": {},
     "output_type": "display_data"
    }
   ],
   "source": [
    "plot_tree(dt_classifier)"
   ]
  }
 ],
 "metadata": {
  "kernelspec": {
   "display_name": "Python 3 (ipykernel)",
   "language": "python",
   "name": "python3"
  },
  "language_info": {
   "codemirror_mode": {
    "name": "ipython",
    "version": 3
   },
   "file_extension": ".py",
   "mimetype": "text/x-python",
   "name": "python",
   "nbconvert_exporter": "python",
   "pygments_lexer": "ipython3",
   "version": "3.12.0"
  }
 },
 "nbformat": 4,
 "nbformat_minor": 5
}
